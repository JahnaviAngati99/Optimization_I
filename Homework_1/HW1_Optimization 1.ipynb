{
 "cells": [
  {
   "cell_type": "code",
   "execution_count": 1,
   "id": "d5894c47",
   "metadata": {},
   "outputs": [],
   "source": [
    "import numpy as np\n",
    "import gurobipy as gp"
   ]
  },
  {
   "cell_type": "markdown",
   "id": "de3e5af6",
   "metadata": {},
   "source": [
    "## 1. Pie Eating Contest"
   ]
  },
  {
   "cell_type": "code",
   "execution_count": 2,
   "id": "6809faaf",
   "metadata": {},
   "outputs": [
    {
     "name": "stdout",
     "output_type": "stream",
     "text": [
      "Set parameter Username\n",
      "Academic license - for non-commercial use only - expires 2024-08-20\n"
     ]
    }
   ],
   "source": [
    "q1Mod=gp.Model()\n",
    "q1ModX = q1Mod.addMVar(2) "
   ]
  },
  {
   "cell_type": "code",
   "execution_count": 3,
   "id": "f1c85888",
   "metadata": {},
   "outputs": [],
   "source": [
    "q1Mod.setObjective(4*q1ModX[0] + 5*q1ModX[1],sense=gp.GRB.MAXIMIZE)"
   ]
  },
  {
   "cell_type": "code",
   "execution_count": 4,
   "id": "2c8180af",
   "metadata": {},
   "outputs": [],
   "source": [
    "conlist1=[0]*2\n",
    "\n",
    "conlist1[0] = q1Mod.addConstr(2*q1ModX[0] + 3*q1ModX[1] <= 60)"
   ]
  },
  {
   "cell_type": "code",
   "execution_count": 5,
   "id": "4acde0c2",
   "metadata": {},
   "outputs": [],
   "source": [
    "q1Mod.Params.OutputFlag = 0 \n",
    "q1Mod.optimize()"
   ]
  },
  {
   "cell_type": "code",
   "execution_count": 6,
   "id": "519b19a0",
   "metadata": {},
   "outputs": [
    {
     "data": {
      "text/plain": [
       "120.0"
      ]
     },
     "execution_count": 6,
     "metadata": {},
     "output_type": "execute_result"
    }
   ],
   "source": [
    "q1Mod.objVal"
   ]
  },
  {
   "cell_type": "code",
   "execution_count": 7,
   "id": "cede4e59",
   "metadata": {},
   "outputs": [
    {
     "data": {
      "text/plain": [
       "array([30.,  0.])"
      ]
     },
     "execution_count": 7,
     "metadata": {},
     "output_type": "execute_result"
    }
   ],
   "source": [
    "q1ModX.x"
   ]
  },
  {
   "cell_type": "code",
   "execution_count": 8,
   "id": "71147b5c",
   "metadata": {},
   "outputs": [],
   "source": [
    "conlist1[1] = q1Mod.addConstr(q1ModX[0] <= q1ModX[1])"
   ]
  },
  {
   "cell_type": "code",
   "execution_count": 9,
   "id": "14db575c",
   "metadata": {},
   "outputs": [],
   "source": [
    "q1Mod.optimize()"
   ]
  },
  {
   "cell_type": "code",
   "execution_count": 10,
   "id": "8d3c050f",
   "metadata": {},
   "outputs": [
    {
     "data": {
      "text/plain": [
       "108.0"
      ]
     },
     "execution_count": 10,
     "metadata": {},
     "output_type": "execute_result"
    }
   ],
   "source": [
    "q1Mod.objVal"
   ]
  },
  {
   "cell_type": "code",
   "execution_count": 11,
   "id": "efaa843b",
   "metadata": {},
   "outputs": [
    {
     "data": {
      "text/plain": [
       "array([12., 12.])"
      ]
     },
     "execution_count": 11,
     "metadata": {},
     "output_type": "execute_result"
    }
   ],
   "source": [
    "q1ModX.x"
   ]
  },
  {
   "cell_type": "markdown",
   "id": "7ff2b353",
   "metadata": {},
   "source": [
    "## 2. Farmer in Iowa"
   ]
  },
  {
   "cell_type": "code",
   "execution_count": 12,
   "id": "6574afdb",
   "metadata": {},
   "outputs": [],
   "source": [
    "q2Mod=gp.Model()\n",
    "q2ModX = q2Mod.addMVar(2) "
   ]
  },
  {
   "cell_type": "code",
   "execution_count": 13,
   "id": "d2f20dfd",
   "metadata": {},
   "outputs": [],
   "source": [
    "q2Mod.setObjective(2000*q2ModX[0] + 3000*q2ModX[1],sense=gp.GRB.MAXIMIZE)"
   ]
  },
  {
   "cell_type": "code",
   "execution_count": 14,
   "id": "f6ec5743",
   "metadata": {},
   "outputs": [],
   "source": [
    "conlist2=[0]*3\n",
    "\n",
    "conlist2[0] = q2Mod.addConstr(3*q2ModX[0] + 2*q2ModX[1] <= 1000)\n",
    "conlist2[1] = q2Mod.addConstr(2*q2ModX[0] + 4*q2ModX[1] <= 1200)\n",
    "conlist2[2] = q2Mod.addConstr(q2ModX[0] + q2ModX[1] <= 450)"
   ]
  },
  {
   "cell_type": "code",
   "execution_count": 15,
   "id": "35e55340",
   "metadata": {},
   "outputs": [],
   "source": [
    "q2Mod.Params.OutputFlag = 0 \n",
    "q2Mod.optimize()"
   ]
  },
  {
   "cell_type": "code",
   "execution_count": 16,
   "id": "d42e0856",
   "metadata": {},
   "outputs": [
    {
     "data": {
      "text/plain": [
       "1000000.0"
      ]
     },
     "execution_count": 16,
     "metadata": {},
     "output_type": "execute_result"
    }
   ],
   "source": [
    "q2Mod.objVal"
   ]
  },
  {
   "cell_type": "code",
   "execution_count": 17,
   "id": "5a85e5b7",
   "metadata": {},
   "outputs": [
    {
     "data": {
      "text/plain": [
       "array([200., 200.])"
      ]
     },
     "execution_count": 17,
     "metadata": {},
     "output_type": "execute_result"
    }
   ],
   "source": [
    "q2ModX.x"
   ]
  },
  {
   "cell_type": "code",
   "execution_count": 18,
   "id": "64b92351",
   "metadata": {},
   "outputs": [
    {
     "name": "stdout",
     "output_type": "stream",
     "text": [
      "1800\n"
     ]
    }
   ],
   "source": [
    "farmer_dict = {}\n",
    "\n",
    "for keys in range(200, 2201, 100):\n",
    "    q2Mod=gp.Model()\n",
    "    q2ModX = q2Mod.addMVar(2) \n",
    "    q2Mod.setObjective(2000*q2ModX[0] + 3000*q2ModX[1],sense=gp.GRB.MAXIMIZE)\n",
    "    conlist3=[0]*3\n",
    "    conlist3[0] = q2Mod.addConstr(3*q2ModX[0] + 2*q2ModX[1] <= 1000)\n",
    "    conlist3[1] = q2Mod.addConstr(2*q2ModX[0] + 4*q2ModX[1] <= keys)\n",
    "    conlist3[2] = q2Mod.addConstr(q2ModX[0] + q2ModX[1] <= 450)\n",
    "    q2Mod.Params.OutputFlag = 0 \n",
    "    q2Mod.optimize()\n",
    "    farmer_dict[keys] = q2ModX.x \n",
    "    \n",
    "    if q2ModX[0].x ==0:\n",
    "        print(keys)\n",
    "        break"
   ]
  },
  {
   "cell_type": "code",
   "execution_count": 19,
   "id": "d0009b8e",
   "metadata": {
    "scrolled": false
   },
   "outputs": [
    {
     "name": "stdout",
     "output_type": "stream",
     "text": [
      "{200: array([100.,   0.]), 300: array([150.,   0.]), 400: array([200.,   0.]), 500: array([250.,   0.]), 600: array([300.,   0.]), 700: array([325. ,  12.5]), 800: array([300.,  50.]), 900: array([275. ,  87.5]), 1000: array([250., 125.]), 1100: array([225. , 162.5]), 1200: array([200., 200.]), 1300: array([175. , 237.5]), 1400: array([150., 275.]), 1500: array([125. , 312.5]), 1600: array([100., 350.]), 1700: array([ 50., 400.]), 1800: array([  0., 450.])}\n"
     ]
    }
   ],
   "source": [
    "print(farmer_dict)"
   ]
  },
  {
   "cell_type": "markdown",
   "id": "bada0112",
   "metadata": {},
   "source": [
    "## 3. Star Oil Company"
   ]
  },
  {
   "cell_type": "code",
   "execution_count": 20,
   "id": "80e0fa16",
   "metadata": {},
   "outputs": [],
   "source": [
    "q3Mod=gp.Model()\n",
    "q3ModX = q3Mod.addMVar(5, lb=0, ub=1)"
   ]
  },
  {
   "cell_type": "code",
   "execution_count": 21,
   "id": "e6de43e8",
   "metadata": {},
   "outputs": [],
   "source": [
    "q3Mod.setObjective(13*q3ModX[0] + 16*q3ModX[1]+ 16*q3ModX[2] + 14*q3ModX[3] +39*q3ModX[4],sense=gp.GRB.MAXIMIZE)"
   ]
  },
  {
   "cell_type": "code",
   "execution_count": 22,
   "id": "41a3fd15",
   "metadata": {},
   "outputs": [],
   "source": [
    "conlist4=[0]*2\n",
    "\n",
    "conlist4[0] = q3Mod.addConstr(11*q3ModX[0] + 53*q3ModX[1]+ 5*q3ModX[2] + 5*q3ModX[3] +29*q3ModX[4] <= 40)\n",
    "conlist4[1] = q3Mod.addConstr(3*q3ModX[0] + 6*q3ModX[1]+ 5*q3ModX[2] + 1*q3ModX[3] +34*q3ModX[4] <= 20)\n"
   ]
  },
  {
   "cell_type": "code",
   "execution_count": 23,
   "id": "8962c2d5",
   "metadata": {},
   "outputs": [],
   "source": [
    "q3Mod.Params.OutputFlag = 0 \n",
    "q3Mod.optimize()"
   ]
  },
  {
   "cell_type": "code",
   "execution_count": 24,
   "id": "8f47b1ea",
   "metadata": {
    "scrolled": true
   },
   "outputs": [
    {
     "data": {
      "text/plain": [
       "57.449017199017206"
      ]
     },
     "execution_count": 24,
     "metadata": {},
     "output_type": "execute_result"
    }
   ],
   "source": [
    "q3Mod.objVal"
   ]
  },
  {
   "cell_type": "code",
   "execution_count": 25,
   "id": "2ec0bc3c",
   "metadata": {
    "scrolled": true
   },
   "outputs": [
    {
     "data": {
      "text/plain": [
       "array(1.)"
      ]
     },
     "execution_count": 25,
     "metadata": {},
     "output_type": "execute_result"
    }
   ],
   "source": [
    "q3ModX[2].x"
   ]
  },
  {
   "cell_type": "markdown",
   "id": "5af26039",
   "metadata": {},
   "source": [
    "## 4. Daily Nutritional Requirement"
   ]
  },
  {
   "cell_type": "code",
   "execution_count": 26,
   "id": "7f9b0705",
   "metadata": {},
   "outputs": [],
   "source": [
    "q4Mod=gp.Model()\n",
    "q4ModX = q4Mod.addMVar(3, lb=0, ub=10)"
   ]
  },
  {
   "cell_type": "code",
   "execution_count": 27,
   "id": "8b3eb07c",
   "metadata": {},
   "outputs": [],
   "source": [
    "q4Mod.setObjective(0.18*q4ModX[0] + 0.23*q4ModX[1] + 0.05*q4ModX[1],sense=gp.GRB.MINIMIZE)"
   ]
  },
  {
   "cell_type": "code",
   "execution_count": 28,
   "id": "752fcb23",
   "metadata": {},
   "outputs": [],
   "source": [
    "conlist5=[0]*4\n",
    "\n",
    "conlist5[0] = q4Mod.addConstr(107*q4ModX[0] + 500*q4ModX[1] <= 50000)\n",
    "conlist5[1] = q4Mod.addConstr(107*q4ModX[0] + 500*q4ModX[1] >= 500)\n",
    "conlist5[2] = q4Mod.addConstr(72*q4ModX[0] + 121*q4ModX[1] + 65*q4ModX[2] <= 2250)\n",
    "conlist5[3] = q4Mod.addConstr(72*q4ModX[0] + 121*q4ModX[1] + 65*q4ModX[2] >= 2000)\n"
   ]
  },
  {
   "cell_type": "code",
   "execution_count": 29,
   "id": "f14f871e",
   "metadata": {},
   "outputs": [],
   "source": [
    "q4Mod.Params.OutputFlag = 0 \n",
    "q4Mod.optimize()"
   ]
  },
  {
   "cell_type": "code",
   "execution_count": 30,
   "id": "d701d875",
   "metadata": {},
   "outputs": [
    {
     "data": {
      "text/plain": [
       "3.1500000000000004"
      ]
     },
     "execution_count": 30,
     "metadata": {},
     "output_type": "execute_result"
    }
   ],
   "source": [
    "q4Mod.objVal"
   ]
  },
  {
   "cell_type": "code",
   "execution_count": 31,
   "id": "1fa57b9a",
   "metadata": {},
   "outputs": [
    {
     "data": {
      "text/plain": [
       "array(1.94444444)"
      ]
     },
     "execution_count": 31,
     "metadata": {},
     "output_type": "execute_result"
    }
   ],
   "source": [
    "q4ModX[0].x"
   ]
  },
  {
   "cell_type": "markdown",
   "id": "149ad59a",
   "metadata": {},
   "source": [
    "## 5. Forest and Wood"
   ]
  },
  {
   "cell_type": "code",
   "execution_count": 32,
   "id": "16ffd8ef",
   "metadata": {},
   "outputs": [],
   "source": [
    "q5Mod=gp.Model()\n",
    "q5ModX = q5Mod.addMVar((2,3))"
   ]
  },
  {
   "cell_type": "code",
   "execution_count": 33,
   "id": "c85c9d16",
   "metadata": {},
   "outputs": [],
   "source": [
    "q5Mod.setObjective(q5ModX[0,0] + 1.3*q5ModX[0,1] + 1.4 * q5ModX[0,2] + q5ModX[1,0] + 1.2 *q5ModX[1,1] + 1.6*q5ModX[1,2],sense=gp.GRB.MAXIMIZE)"
   ]
  },
  {
   "cell_type": "code",
   "execution_count": 34,
   "id": "4a706cfb",
   "metadata": {},
   "outputs": [],
   "source": [
    "conlist6=[0]*8\n",
    "\n",
    "conlist6[0] = q5Mod.addConstr(q5ModX[0,0] + q5ModX[1,0] <= 2)\n",
    "conlist6[1] = q5Mod.addConstr(q5ModX[0,0] + q5ModX[1,0] >= 1.2)\n",
    "\n",
    "conlist6[2] = q5Mod.addConstr(1.3 * q5ModX[0,1] + 1.2 * q5ModX[1,1] <= 2)\n",
    "conlist6[3] = q5Mod.addConstr(1.3 * q5ModX[0,1] + 1.2 * q5ModX[1,1] >= 1.5)\n",
    "\n",
    "conlist6[4] = q5Mod.addConstr(1.4 * q5ModX[0,2] + 1.6 * q5ModX[1,2] <= 3)\n",
    "conlist6[5] = q5Mod.addConstr(1.4 * q5ModX[0,2] + 1.6 * q5ModX[1,2] >= 2)\n",
    "\n",
    "conlist6[6] = q5Mod.addConstr(q5ModX[0,0] + q5ModX[0,1] + q5ModX[0,2] <= 2)\n",
    "conlist6[7] = q5Mod.addConstr(q5ModX[1,0] + q5ModX[1,1] + q5ModX[1,2] <= 3)\n"
   ]
  },
  {
   "cell_type": "code",
   "execution_count": 35,
   "id": "14903476",
   "metadata": {},
   "outputs": [
    {
     "name": "stdout",
     "output_type": "stream",
     "text": [
      "Gurobi Optimizer version 10.0.2 build v10.0.2rc0 (mac64[arm])\n",
      "\n",
      "CPU model: Apple M2\n",
      "Thread count: 8 physical cores, 8 logical processors, using up to 8 threads\n",
      "\n",
      "Optimize a model with 8 rows, 6 columns and 18 nonzeros\n",
      "Model fingerprint: 0xeff48103\n",
      "Coefficient statistics:\n",
      "  Matrix range     [1e+00, 2e+00]\n",
      "  Objective range  [1e+00, 2e+00]\n",
      "  Bounds range     [0e+00, 0e+00]\n",
      "  RHS range        [1e+00, 3e+00]\n",
      "Presolve removed 3 rows and 0 columns\n",
      "Presolve time: 0.00s\n",
      "Presolved: 5 rows, 9 columns, 15 nonzeros\n",
      "\n",
      "Iteration    Objective       Primal Inf.    Dual Inf.      Time\n",
      "       0    7.0000000e+00   2.660587e+00   0.000000e+00      0s\n",
      "       4    6.5865385e+00   0.000000e+00   0.000000e+00      0s\n",
      "\n",
      "Solved in 4 iterations and 0.00 seconds (0.00 work units)\n",
      "Optimal objective  6.586538462e+00\n"
     ]
    }
   ],
   "source": [
    "q5Mod.optimize()"
   ]
  },
  {
   "cell_type": "code",
   "execution_count": 36,
   "id": "802f4a41",
   "metadata": {},
   "outputs": [
    {
     "data": {
      "text/plain": [
       "6.586538461538462"
      ]
     },
     "execution_count": 36,
     "metadata": {},
     "output_type": "execute_result"
    }
   ],
   "source": [
    "q5Mod.objVal"
   ]
  },
  {
   "cell_type": "code",
   "execution_count": 37,
   "id": "ca9951ed",
   "metadata": {
    "scrolled": true
   },
   "outputs": [
    {
     "data": {
      "text/plain": [
       "array([[0.46153846, 1.53846154, 0.        ],\n",
       "       [1.125     , 0.        , 1.875     ]])"
      ]
     },
     "execution_count": 37,
     "metadata": {},
     "output_type": "execute_result"
    }
   ],
   "source": [
    "q5ModX.x"
   ]
  }
 ],
 "metadata": {
  "kernelspec": {
   "display_name": "Python 3 (ipykernel)",
   "language": "python",
   "name": "python3"
  },
  "language_info": {
   "codemirror_mode": {
    "name": "ipython",
    "version": 3
   },
   "file_extension": ".py",
   "mimetype": "text/x-python",
   "name": "python",
   "nbconvert_exporter": "python",
   "pygments_lexer": "ipython3",
   "version": "3.10.9"
  }
 },
 "nbformat": 4,
 "nbformat_minor": 5
}
