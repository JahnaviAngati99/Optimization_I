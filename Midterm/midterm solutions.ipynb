{
 "cells": [
  {
   "cell_type": "code",
   "execution_count": 1,
   "id": "vjjdZlHFIxQ6",
   "metadata": {
    "id": "vjjdZlHFIxQ6"
   },
   "outputs": [],
   "source": [
    "#!pip install gurobipy"
   ]
  },
  {
   "cell_type": "code",
   "execution_count": 2,
   "id": "jgUvjQeJIzym",
   "metadata": {
    "id": "jgUvjQeJIzym"
   },
   "outputs": [],
   "source": [
    "import numpy as np\n",
    "import gurobipy as gp"
   ]
  },
  {
   "cell_type": "markdown",
   "id": "l8n708USI7BD",
   "metadata": {
    "id": "l8n708USI7BD"
   },
   "source": [
    "## Problem 1"
   ]
  },
  {
   "cell_type": "code",
   "execution_count": 3,
   "id": "IhBYggXiI3qb",
   "metadata": {
    "id": "IhBYggXiI3qb"
   },
   "outputs": [
    {
     "name": "stdout",
     "output_type": "stream",
     "text": [
      "Set parameter Username\n",
      "Academic license - for non-commercial use only - expires 2024-08-20\n",
      "[-6.  -5.   4.5  4.5  6.   6. ]\n",
      "43.0\n"
     ]
    }
   ],
   "source": [
    "m1 = gp.Model()\n",
    "x = m1.addMVar(6,lb=[-6,-5,0,0,6,0])\n",
    "\n",
    "obj = [2,-2,3,3,4,-1]\n",
    "m1.setObjective(gp.quicksum(x[i]*obj[i] for i in range(6)),sense=gp.GRB.MAXIMIZE)\n",
    "lessCons = m1.addConstrs(x[i] <= x[j] for i in range(5) for j in range(i+1,6))\n",
    "# lessCons = m1.addConstrs(x[i] <= x[i+1] for i in range(5)) # this would also work.. if w < x < y, you automatically know w < y also..\n",
    "sumCon = m1.addConstr(gp.quicksum(x[i] for i in range(6))<= 10)\n",
    "m1.Params.OutputFlag=0\n",
    "m1.optimize()\n",
    "print(x.x)\n",
    "print(m1.objval)"
   ]
  },
  {
   "cell_type": "code",
   "execution_count": 4,
   "id": "_wOf13LkKlgs",
   "metadata": {
    "id": "_wOf13LkKlgs"
   },
   "outputs": [
    {
     "data": {
      "text/plain": [
       "10.0"
      ]
     },
     "execution_count": 4,
     "metadata": {},
     "output_type": "execute_result"
    }
   ],
   "source": [
    "np.sum([-6. , -5. ,  4.5 , 4.5 , 6.  , 6. ])"
   ]
  },
  {
   "cell_type": "code",
   "execution_count": 5,
   "id": "xSHLK82ILOfY",
   "metadata": {
    "id": "xSHLK82ILOfY"
   },
   "outputs": [
    {
     "data": {
      "text/plain": [
       "10.0"
      ]
     },
     "execution_count": 5,
     "metadata": {},
     "output_type": "execute_result"
    }
   ],
   "source": [
    "np.sum([-6., -5. , 3. , 6. , 6. , 6.])"
   ]
  },
  {
   "cell_type": "code",
   "execution_count": 6,
   "id": "f4MFebm1LQuC",
   "metadata": {
    "id": "f4MFebm1LQuC"
   },
   "outputs": [
    {
     "data": {
      "text/plain": [
       "array(3.)"
      ]
     },
     "execution_count": 6,
     "metadata": {},
     "output_type": "execute_result"
    }
   ],
   "source": [
    "sumCon.Pi"
   ]
  },
  {
   "cell_type": "code",
   "execution_count": 7,
   "id": "v6gFrwkKWIi5",
   "metadata": {
    "id": "v6gFrwkKWIi5"
   },
   "outputs": [
    {
     "data": {
      "text/plain": [
       "array(1.)"
      ]
     },
     "execution_count": 7,
     "metadata": {},
     "output_type": "execute_result"
    }
   ],
   "source": [
    "sumCon.SARHSLow"
   ]
  },
  {
   "cell_type": "code",
   "execution_count": 8,
   "id": "67idugdMYDv_",
   "metadata": {
    "id": "67idugdMYDv_"
   },
   "outputs": [
    {
     "data": {
      "text/plain": [
       "array(13.)"
      ]
     },
     "execution_count": 8,
     "metadata": {},
     "output_type": "execute_result"
    }
   ],
   "source": [
    "sumCon.SARHSUp"
   ]
  },
  {
   "cell_type": "code",
   "execution_count": 9,
   "id": "Hsy6EipyYFjv",
   "metadata": {
    "id": "Hsy6EipyYFjv"
   },
   "outputs": [
    {
     "data": {
      "text/plain": [
       "array([-inf, -inf,   3.,   1., -inf, -inf])"
      ]
     },
     "execution_count": 9,
     "metadata": {},
     "output_type": "execute_result"
    }
   ],
   "source": [
    "x.SAObjLow"
   ]
  },
  {
   "cell_type": "code",
   "execution_count": 10,
   "id": "dR8kIFTAfCcL",
   "metadata": {
    "id": "dR8kIFTAfCcL"
   },
   "outputs": [
    {
     "data": {
      "text/plain": [
       "array([ 3.,  3., inf,  3.,  7.,  2.])"
      ]
     },
     "execution_count": 10,
     "metadata": {},
     "output_type": "execute_result"
    }
   ],
   "source": [
    "x.SAObjUp"
   ]
  },
  {
   "cell_type": "code",
   "execution_count": null,
   "id": "BbbnpV5sfFOQ",
   "metadata": {
    "id": "BbbnpV5sfFOQ"
   },
   "outputs": [],
   "source": []
  },
  {
   "cell_type": "code",
   "execution_count": null,
   "id": "v1QrJleCpi7M",
   "metadata": {
    "id": "v1QrJleCpi7M"
   },
   "outputs": [],
   "source": []
  },
  {
   "cell_type": "code",
   "execution_count": 11,
   "id": "wonMv6INpizE",
   "metadata": {
    "id": "wonMv6INpizE"
   },
   "outputs": [
    {
     "data": {
      "text/plain": [
       "1200"
      ]
     },
     "execution_count": 11,
     "metadata": {},
     "output_type": "execute_result"
    }
   ],
   "source": [
    "15*40*2"
   ]
  },
  {
   "cell_type": "markdown",
   "id": "i8Q_Kdkzpjgh",
   "metadata": {
    "id": "i8Q_Kdkzpjgh"
   },
   "source": [
    "## Problem 2"
   ]
  },
  {
   "cell_type": "code",
   "execution_count": 12,
   "id": "MAp14pGtpip-",
   "metadata": {
    "id": "MAp14pGtpip-"
   },
   "outputs": [
    {
     "data": {
      "text/plain": [
       "array([0., 1., 0., 1., 1., 1.])"
      ]
     },
     "execution_count": 12,
     "metadata": {},
     "output_type": "execute_result"
    }
   ],
   "source": [
    "ip = gp.Model()\n",
    "hire = ip.addMVar(6,vtype='B')\n",
    "time = ip.addMVar((6,2))\n",
    "M = 40\n",
    "bigMcons = ip.addConstrs(time[i,0]+time[i,1] <= M*hire[i] for i in range(6))\n",
    "salesPrice = [10,15]\n",
    "goodsPhour = [[10,15,12,10,9,8],[9,8,9,15,15,12]]\n",
    "salary = [700,800,1000,900,800,750]\n",
    "\n",
    "ip.setObjective(gp.quicksum(time[i,j]*goodsPhour[j][i]*salesPrice[j] for i in range(6) for j in range(2)) - gp.quicksum(hire[i]*salary[i] for i in range(6)),sense=gp.GRB.MAXIMIZE)\n",
    "ip.addConstr(gp.quicksum(salary[i]*hire[i] for i in range(6)) <= 4000)\n",
    "ip.addConstr(gp.quicksum(hire[i] for i in range(6)) <= 4)\n",
    "ip.addConstr(gp.quicksum(time[i,0]*goodsPhour[0][i] for i in range(6)) >= 650)\n",
    "\n",
    "ip.addConstr(hire[0] <= hire[5])\n",
    "\n",
    "\n",
    "ip.Params.OutputFlag=0\n",
    "ip.optimize()\n",
    "hire.x"
   ]
  },
  {
   "cell_type": "code",
   "execution_count": 13,
   "id": "50jdBmqkpih4",
   "metadata": {
    "id": "50jdBmqkpih4"
   },
   "outputs": [
    {
     "data": {
      "text/plain": [
       "array([[ 0.,  0.],\n",
       "       [40.,  0.],\n",
       "       [ 0.,  0.],\n",
       "       [ 5., 35.],\n",
       "       [ 0., 40.],\n",
       "       [ 0., 40.]])"
      ]
     },
     "execution_count": 13,
     "metadata": {},
     "output_type": "execute_result"
    }
   ],
   "source": [
    "\n",
    "time.x"
   ]
  },
  {
   "cell_type": "code",
   "execution_count": 14,
   "id": "EIhcjfHZqyyF",
   "metadata": {
    "id": "EIhcjfHZqyyF"
   },
   "outputs": [
    {
     "data": {
      "text/plain": [
       "27325.0"
      ]
     },
     "execution_count": 14,
     "metadata": {},
     "output_type": "execute_result"
    }
   ],
   "source": [
    "ip.objval"
   ]
  },
  {
   "cell_type": "code",
   "execution_count": 15,
   "id": "I6QUytKzteLQ",
   "metadata": {
    "id": "I6QUytKzteLQ"
   },
   "outputs": [
    {
     "data": {
      "text/plain": [
       "array([0., 1., 0., 1., 1., 1.])"
      ]
     },
     "execution_count": 15,
     "metadata": {},
     "output_type": "execute_result"
    }
   ],
   "source": [
    "ip.Params.OutputFlag=0\n",
    "ip.optimize()\n",
    "hire.x"
   ]
  },
  {
   "cell_type": "code",
   "execution_count": null,
   "id": "pxhma9kpuIQp",
   "metadata": {
    "id": "pxhma9kpuIQp"
   },
   "outputs": [],
   "source": []
  }
 ],
 "metadata": {
  "colab": {
   "provenance": []
  },
  "kernelspec": {
   "display_name": "Python 3 (ipykernel)",
   "language": "python",
   "name": "python3"
  },
  "language_info": {
   "codemirror_mode": {
    "name": "ipython",
    "version": 3
   },
   "file_extension": ".py",
   "mimetype": "text/x-python",
   "name": "python",
   "nbconvert_exporter": "python",
   "pygments_lexer": "ipython3",
   "version": "3.10.9"
  }
 },
 "nbformat": 4,
 "nbformat_minor": 5
}
