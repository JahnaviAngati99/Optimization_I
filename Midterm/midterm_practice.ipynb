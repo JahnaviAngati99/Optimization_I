{
 "cells": [
  {
   "cell_type": "code",
   "execution_count": null,
   "metadata": {
    "id": "DvbVOG2sX_ax"
   },
   "outputs": [],
   "source": [
    "#!pip install gurobipy"
   ]
  },
  {
   "cell_type": "code",
   "execution_count": 1,
   "metadata": {
    "id": "MZWfjmwkX-V9"
   },
   "outputs": [],
   "source": [
    "import numpy as np\n",
    "import gurobipy as gp"
   ]
  },
  {
   "cell_type": "markdown",
   "metadata": {
    "id": "F3_wLMccX-V_"
   },
   "source": [
    "## Problem 1"
   ]
  },
  {
   "cell_type": "code",
   "execution_count": 2,
   "metadata": {
    "id": "M6w2Qsy1X-WD"
   },
   "outputs": [
    {
     "name": "stdout",
     "output_type": "stream",
     "text": [
      "Set parameter Username\n",
      "Academic license - for non-commercial use only - expires 2024-08-20\n"
     ]
    }
   ],
   "source": [
    "obj = np.array([100,200,150,250,225])\n",
    "lb = np.ones(5)*4\n",
    "jobMod = gp.Model()\n",
    "jobx = jobMod.addMVar(5,lb=lb)"
   ]
  },
  {
   "cell_type": "code",
   "execution_count": 3,
   "metadata": {
    "id": "egAchV_fX-WF"
   },
   "outputs": [],
   "source": [
    "# not twice the hours...need all combinations of job comparisons! for each job compare to all other jobs\n",
    "twiceCons = jobMod.addConstrs(jobx[i] <= 2*jobx[j] for i in range(5) for j in range(5) if i!=j)\n",
    "# 40 hours per week\n",
    "fortyCon = jobMod.addConstr(gp.quicksum(jobx[i] for i in range(5)) <= 40)\n",
    "# jobs 1 and 3 constraint\n",
    "onethreeCon = jobMod.addConstr(jobx[0]+jobx[2] >= 15)\n",
    "# jobs 4 and 5 constraint\n",
    "fourfiveCon = jobMod.addConstr(jobx[3]+jobx[4] <= 15)"
   ]
  },
  {
   "cell_type": "code",
   "execution_count": 4,
   "metadata": {
    "id": "zQcqdSOGX-WF"
   },
   "outputs": [],
   "source": [
    "jobMod.setObjective(gp.quicksum(obj[i]*jobx[i] for i in range(5)),sense=gp.GRB.MAXIMIZE)"
   ]
  },
  {
   "cell_type": "code",
   "execution_count": 5,
   "metadata": {
    "id": "9KvGF_PvX-WH"
   },
   "outputs": [],
   "source": [
    "jobMod.Params.OutputFlag = 0 # tell gurobi to shut up!!\n",
    "jobMod.optimize()"
   ]
  },
  {
   "cell_type": "code",
   "execution_count": 6,
   "metadata": {
    "id": "rv2cR62rX-WI"
   },
   "outputs": [
    {
     "data": {
      "text/plain": [
       "array([ 5., 10., 10., 10.,  5.])"
      ]
     },
     "execution_count": 6,
     "metadata": {},
     "output_type": "execute_result"
    }
   ],
   "source": [
    "jobx.x"
   ]
  },
  {
   "cell_type": "code",
   "execution_count": 7,
   "metadata": {
    "id": "Zubi6MX6X-WI"
   },
   "outputs": [
    {
     "data": {
      "text/plain": [
       "7625.0"
      ]
     },
     "execution_count": 7,
     "metadata": {},
     "output_type": "execute_result"
    }
   ],
   "source": [
    "jobMod.objval\n",
    "\n"
   ]
  },
  {
   "cell_type": "code",
   "execution_count": 8,
   "metadata": {
    "id": "T-DEayzlX-WM"
   },
   "outputs": [
    {
     "data": {
      "text/plain": [
       "6000"
      ]
     },
     "execution_count": 8,
     "metadata": {},
     "output_type": "execute_result"
    }
   ],
   "source": [
    "150*40\n",
    "# the company makes $7625 per week from your work, so you are profitable"
   ]
  },
  {
   "cell_type": "code",
   "execution_count": 9,
   "metadata": {
    "id": "5mJp6l8MX-WN"
   },
   "outputs": [
    {
     "data": {
      "text/plain": [
       "array(200.)"
      ]
     },
     "execution_count": 9,
     "metadata": {},
     "output_type": "execute_result"
    }
   ],
   "source": [
    "fortyCon.Pi\n",
    "# if they increase your hours to 41 they'll make $200 more dollars\n",
    "# but you would have to be paid $225 for that hour\n",
    "# they shouldn't ask you to work more!"
   ]
  },
  {
   "cell_type": "code",
   "execution_count": 38,
   "metadata": {
    "id": "x3rBTPaVX-WQ"
   },
   "outputs": [
    {
     "name": "stdout",
     "output_type": "stream",
     "text": [
      "Gurobi Optimizer version 10.0.2 build v10.0.2rc0 (mac64[arm])\n",
      "\n",
      "CPU model: Apple M2\n",
      "Thread count: 8 physical cores, 8 logical processors, using up to 8 threads\n",
      "\n",
      "Optimize a model with 23 rows, 6 columns and 51 nonzeros\n",
      "Model fingerprint: 0x041d2cb6\n",
      "Coefficient statistics:\n",
      "  Matrix range     [1e+00, 2e+00]\n",
      "  Objective range  [1e+02, 2e+02]\n",
      "  Bounds range     [4e+00, 4e+00]\n",
      "  RHS range        [1e+01, 4e+01]\n",
      "Presolve time: 0.00s\n",
      "Presolved: 23 rows, 6 columns, 51 nonzeros\n",
      "\n",
      "Iteration    Objective       Primal Inf.    Dual Inf.      Time\n",
      "       0    9.2500000e+32   9.000000e+30   9.250000e+02      0s\n",
      "       6    7.5000000e+03   0.000000e+00   0.000000e+00      0s\n",
      "\n",
      "Solved in 6 iterations and 0.01 seconds (0.00 work units)\n",
      "Optimal objective  7.500000000e+03\n"
     ]
    }
   ],
   "source": [
    "m = gp.Model(\"task_allocation_with_bonus\")\n",
    "\n",
    "# Create variables\n",
    "x = m.addVars(5, lb=4, vtype=gp.GRB.CONTINUOUS, name=\"task\")\n",
    "s = m.addVar(lb=0, vtype=gp.GRB.CONTINUOUS, name=\"slack\")\n",
    "\n",
    "# Set the objective to maximize the revenue minus your bonus payment\n",
    "revenue_per_hour = [100, 200, 150, 250, 225]\n",
    "m.setObjective(sum(revenue_per_hour[i] * x[i] for i in range(5)) - 100 * s, sense = gp.GRB.MAXIMIZE)\n",
    "\n",
    "# Add constraints\n",
    "# 1. Each task must receive at least 4 hours. This is already handled by the variable bounds.\n",
    "# 2. No one task can occupy 2 times the amount of time of any other task.\n",
    "for i in range(5):\n",
    "    for j in range(5):\n",
    "        if i != j:\n",
    "            m.addConstr(x[i] <= 2 * x[j], f\"task_{i+1}_2times_task_{j+1}\")\n",
    "\n",
    "# 3. The total combined time spent on tasks 1 and 3 must be at least 12 hours.\n",
    "m.addConstr(x[0] + x[2] == 12 + s, \"task_1_and_3\")\n",
    "\n",
    "# 4. The total combined time spent on task 4 and 5 cannot exceed 15 hours and is reduced by the slack.\n",
    "m.addConstr(x[3] + x[4] <= 15 - s, \"task_4_and_5\")\n",
    "\n",
    "# 5. You work 40 hours per week.\n",
    "m.addConstr(sum(x[i] for i in range(5)) <= 40, \"total_hours\")\n",
    "\n",
    "# Optimize model\n",
    "m.optimize()"
   ]
  },
  {
   "cell_type": "code",
   "execution_count": 39,
   "metadata": {},
   "outputs": [
    {
     "data": {
      "text/plain": [
       "[6.0, 12.0, 6.0, 9.0, 6.0, 0.0]"
      ]
     },
     "execution_count": 39,
     "metadata": {},
     "output_type": "execute_result"
    }
   ],
   "source": [
    "m.x"
   ]
  },
  {
   "cell_type": "code",
   "execution_count": 40,
   "metadata": {},
   "outputs": [
    {
     "data": {
      "text/plain": [
       "7500.0"
      ]
     },
     "execution_count": 40,
     "metadata": {},
     "output_type": "execute_result"
    }
   ],
   "source": [
    "m.objVal"
   ]
  },
  {
   "cell_type": "code",
   "execution_count": 24,
   "metadata": {},
   "outputs": [
    {
     "data": {
      "text/plain": [
       "6000"
      ]
     },
     "execution_count": 24,
     "metadata": {},
     "output_type": "execute_result"
    }
   ],
   "source": [
    "150*40"
   ]
  },
  {
   "cell_type": "code",
   "execution_count": 25,
   "metadata": {},
   "outputs": [
    {
     "data": {
      "text/plain": [
       "200.0"
      ]
     },
     "execution_count": 25,
     "metadata": {},
     "output_type": "execute_result"
    }
   ],
   "source": [
    "w.Pi"
   ]
  },
  {
   "cell_type": "markdown",
   "metadata": {
    "id": "R2SQS29WX-WR"
   },
   "source": [
    "## Problem 2"
   ]
  },
  {
   "cell_type": "code",
   "execution_count": null,
   "metadata": {
    "id": "rMdZa_gzX-WS"
   },
   "outputs": [],
   "source": []
  },
  {
   "cell_type": "code",
   "execution_count": 29,
   "metadata": {
    "id": "dbb0LnvXX-WS"
   },
   "outputs": [],
   "source": [
    "obj2 = np.array([100,200,150,250,225,-100])\n",
    "lb2 = np.array([4]*5+[0])\n",
    "jobMod2 = gp.Model()\n",
    "jobx2 = jobMod2.addMVar(6,lb=lb2)\n"
   ]
  },
  {
   "cell_type": "code",
   "execution_count": 30,
   "metadata": {
    "id": "SNlUvp3dX-WT"
   },
   "outputs": [],
   "source": [
    "# not twice the hours...need all combinations of job comparisons! for each job compare to all other jobs\n",
    "twiceCons = jobMod2.addConstrs(jobx2[i] <= 2*jobx2[j] for i in range(5) for j in range(5) if i!=j)\n",
    "# 40 hours per week\n",
    "fortyCon = jobMod2.addConstr(gp.quicksum(jobx2[i] for i in range(5)) <= 40)\n",
    "# jobs 1 and 3 constraint\n",
    "onethreeCon = jobMod2.addConstr(jobx2[0]+jobx2[2]-jobx2[5] == 12)\n",
    "# jobs 4 and 5 constraint\n",
    "fourfiveCon = jobMod2.addConstr(jobx2[3]+jobx2[4] <= 15-jobx2[5])\n"
   ]
  },
  {
   "cell_type": "code",
   "execution_count": 31,
   "metadata": {
    "id": "KyluoKJebR9S"
   },
   "outputs": [],
   "source": [
    "jobMod2.setObjective(gp.quicksum(obj2[i]*jobx2[i] for i in range(6)),sense=gp.GRB.MAXIMIZE)"
   ]
  },
  {
   "cell_type": "code",
   "execution_count": 32,
   "metadata": {
    "id": "POBnI8JjX-WW"
   },
   "outputs": [],
   "source": [
    "\n",
    "jobMod2.Params.OutputFlag = 0 # tell gurobi to shut up!!\n",
    "jobMod2.optimize()"
   ]
  },
  {
   "cell_type": "code",
   "execution_count": 33,
   "metadata": {
    "id": "eRI5ncznX-WX"
   },
   "outputs": [
    {
     "data": {
      "text/plain": [
       "array([ 6., 12.,  6.,  9.,  6.,  0.])"
      ]
     },
     "execution_count": 33,
     "metadata": {},
     "output_type": "execute_result"
    }
   ],
   "source": [
    "jobx2.x"
   ]
  },
  {
   "cell_type": "code",
   "execution_count": 37,
   "metadata": {
    "id": "4xaIN2p9X-WY"
   },
   "outputs": [
    {
     "data": {
      "text/plain": [
       "7500.0"
      ]
     },
     "execution_count": 37,
     "metadata": {},
     "output_type": "execute_result"
    }
   ],
   "source": [
    "jobMod2.objVal"
   ]
  },
  {
   "cell_type": "markdown",
   "metadata": {
    "id": "2KEwWNWybsHz"
   },
   "source": [
    "## Problem 3"
   ]
  },
  {
   "cell_type": "code",
   "execution_count": 41,
   "metadata": {
    "id": "aA-_jpQ8X-WY"
   },
   "outputs": [],
   "source": [
    "carMod = gp.Model()\n",
    "engine = carMod.addMVar(3,vtype='B')\n",
    "turbo = carMod.addMVar(2,vtype='B')\n",
    "breaks = carMod.addMVar(2,vtype='B')\n",
    "interior = carMod.addMVar(2,vtype='B')"
   ]
  },
  {
   "cell_type": "code",
   "execution_count": 42,
   "metadata": {
    "id": "QbAZPPnJcRlC"
   },
   "outputs": [],
   "source": [
    "carMod.setObjective(50*engine[0]+55*engine[1]+65*engine[2]+5*(turbo[0]+turbo[1])+5*breaks[0]+7*breaks[1]+15*interior[0]+20*interior[1])"
   ]
  },
  {
   "cell_type": "code",
   "execution_count": 43,
   "metadata": {
    "id": "ZJRhFKFAc1JX"
   },
   "outputs": [],
   "source": [
    "engineCon = carMod.addConstr(gp.quicksum(engine[i] for i in range(3))==1)\n",
    "t1Con = carMod.addConstr(turbo[0] <= engine[0])\n",
    "t2Con = carMod.addConstr(turbo[1] <= engine[1])\n",
    "t3con = carMod.addConstr(turbo[0]+turbo[1] <= 1)\n",
    "breaksCon = carMod.addConstr(breaks[0]+breaks[1]==1)\n",
    "breaks2Con = carMod.addConstr(2*breaks[1] >= turbo[0] + turbo[1]) # probably don't need the 2, but let's be safe..\n",
    "interiorCon = carMod.addConstr(interior[0]+interior[1] == 1)\n",
    "interior2Con = carMod.addConstr(interior[0] <= engine[2]+turbo[0]+turbo[1])\n",
    "hpCon = carMod.addConstr(450*engine[0]+600*engine[1]+750*engine[2]+200*turbo[0]+150*turbo[1] >= 600)"
   ]
  },
  {
   "cell_type": "code",
   "execution_count": 44,
   "metadata": {
    "id": "8D0-apqae2F6"
   },
   "outputs": [],
   "source": [
    "carMod.Params.OutputFlag = 0 # tell gurobi to shut up!!\n",
    "carMod.optimize()"
   ]
  },
  {
   "cell_type": "code",
   "execution_count": 45,
   "metadata": {
    "id": "Ncl9vmGwe44f"
   },
   "outputs": [
    {
     "data": {
      "text/plain": [
       "array([1., 0., 0.])"
      ]
     },
     "execution_count": 45,
     "metadata": {},
     "output_type": "execute_result"
    }
   ],
   "source": [
    "engine.x"
   ]
  },
  {
   "cell_type": "code",
   "execution_count": 46,
   "metadata": {
    "id": "VR21nDCue5p3"
   },
   "outputs": [
    {
     "data": {
      "text/plain": [
       "array([1., 0.])"
      ]
     },
     "execution_count": 46,
     "metadata": {},
     "output_type": "execute_result"
    }
   ],
   "source": [
    "turbo.x"
   ]
  },
  {
   "cell_type": "code",
   "execution_count": 47,
   "metadata": {
    "id": "DEwlnmcZe6wi"
   },
   "outputs": [
    {
     "data": {
      "text/plain": [
       "array([0., 1.])"
      ]
     },
     "execution_count": 47,
     "metadata": {},
     "output_type": "execute_result"
    }
   ],
   "source": [
    "breaks.x"
   ]
  },
  {
   "cell_type": "code",
   "execution_count": 48,
   "metadata": {
    "id": "_4M_ba2te9Ds"
   },
   "outputs": [
    {
     "data": {
      "text/plain": [
       "array([1., 0.])"
      ]
     },
     "execution_count": 48,
     "metadata": {},
     "output_type": "execute_result"
    }
   ],
   "source": [
    "interior.x"
   ]
  },
  {
   "cell_type": "code",
   "execution_count": 49,
   "metadata": {
    "id": "N8yypaM0e_F4"
   },
   "outputs": [
    {
     "data": {
      "text/plain": [
       "77.0"
      ]
     },
     "execution_count": 49,
     "metadata": {},
     "output_type": "execute_result"
    }
   ],
   "source": [
    "carMod.objval"
   ]
  },
  {
   "cell_type": "code",
   "execution_count": 58,
   "metadata": {
    "id": "S9qfGQcyfIj2"
   },
   "outputs": [],
   "source": [
    "m = gp.Model(\"ferrari_design\")\n",
    "\n",
    "# Create binary variables\n",
    "e = m.addMVar(3, vtype=gp.GRB.BINARY, name=\"engine\")\n",
    "t = m.addMVar(2, vtype=gp.GRB.BINARY, name=\"turbo\")\n",
    "b = m.addMVar(2, vtype=gp.GRB.BINARY, name=\"breaks\")\n",
    "i = m.addMVar(2, vtype=gp.GRB.BINARY, name=\"interior\")\n",
    "\n",
    "# Set the objective to minimize the total cost\n",
    "m.setObjective(50000*e[0] + 55000*e[1] + 65000*e[2] + \n",
    "               5000*t[0] + 5000*t[1] + \n",
    "               5000*b[0] + 7000*b[1] + \n",
    "               15000*i[0] + 20000*i[1], sense = gp.GRB.MINIMIZE)\n",
    "\n",
    "# Add constraints\n",
    "# a) You must pick only 1 engine\n",
    "m.addConstr(sum(e[j] for j in range(3)) == 1, \"choose_one_engine\")\n",
    "\n",
    "# b) Turbo1 can only be used on engine1\n",
    "m.addConstr(t[0] <= e[0], \"turbo1_on_engine1\")\n",
    "\n",
    "# c) Turbo2 can only be used on engine2\n",
    "m.addConstr(t[1] <= e[1], \"turbo2_on_engine2\")\n",
    "\n",
    "# d) Only one of the turbos can be used\n",
    "m.addConstr(sum(t[j] for j in range(2)) <= 1, \"one_turbo\")\n",
    "\n",
    "# e) You must pick only 1 set of breaks\n",
    "m.addConstr(sum(b[j] for j in range(2)) == 1, \"choose_one_break\")\n",
    "\n",
    "\n",
    "# f) Breaks2 must be used if you use a turbo\n",
    "m.addConstr(sum(t[j] for j in range(2)) <= b[1], \"break2_if_turbo\")\n",
    "\n",
    "# g) You must pick only 1 interior\n",
    "m.addConstr(sum(i[j] for j in range(2)) == 1, \"choose_one_interior\")\n",
    "\n",
    "# h) Interior 1 can only be used if you use engine 3 or a turbo\n",
    "m.addConstr(i[0] <= e[2] + sum(t[j] for j in range(2)), \"interior1_with_engine3_or_turbo\")\n",
    "\n",
    "# i) The car must have at least 600 hp\n",
    "m.addConstr(450*e[0] + 200*t[0] + 600*e[1] + 150*t[1] + 750*e[2] >= 600, \"min_horsepower\")\n",
    "\n",
    "# Optimize model\n",
    "m.Params.OutputFlag = 0\n",
    "m.optimize()\n",
    "\n"
   ]
  },
  {
   "cell_type": "code",
   "execution_count": 59,
   "metadata": {
    "scrolled": true
   },
   "outputs": [
    {
     "data": {
      "text/plain": [
       "77000.0"
      ]
     },
     "execution_count": 59,
     "metadata": {},
     "output_type": "execute_result"
    }
   ],
   "source": [
    "m.objVal"
   ]
  },
  {
   "cell_type": "code",
   "execution_count": 60,
   "metadata": {},
   "outputs": [
    {
     "data": {
      "text/plain": [
       "array([1., 0., 0.])"
      ]
     },
     "execution_count": 60,
     "metadata": {},
     "output_type": "execute_result"
    }
   ],
   "source": [
    "e.x"
   ]
  },
  {
   "cell_type": "code",
   "execution_count": 61,
   "metadata": {},
   "outputs": [
    {
     "data": {
      "text/plain": [
       "array([1., 0.])"
      ]
     },
     "execution_count": 61,
     "metadata": {},
     "output_type": "execute_result"
    }
   ],
   "source": [
    "t.x"
   ]
  },
  {
   "cell_type": "code",
   "execution_count": 62,
   "metadata": {},
   "outputs": [
    {
     "data": {
      "text/plain": [
       "array([0., 1.])"
      ]
     },
     "execution_count": 62,
     "metadata": {},
     "output_type": "execute_result"
    }
   ],
   "source": [
    "b.x"
   ]
  },
  {
   "cell_type": "code",
   "execution_count": 63,
   "metadata": {},
   "outputs": [
    {
     "data": {
      "text/plain": [
       "array([1., 0.])"
      ]
     },
     "execution_count": 63,
     "metadata": {},
     "output_type": "execute_result"
    }
   ],
   "source": [
    "i.x"
   ]
  }
 ],
 "metadata": {
  "colab": {
   "provenance": []
  },
  "kernelspec": {
   "display_name": "Python 3 (ipykernel)",
   "language": "python",
   "name": "python3"
  },
  "language_info": {
   "codemirror_mode": {
    "name": "ipython",
    "version": 3
   },
   "file_extension": ".py",
   "mimetype": "text/x-python",
   "name": "python",
   "nbconvert_exporter": "python",
   "pygments_lexer": "ipython3",
   "version": "3.10.9"
  }
 },
 "nbformat": 4,
 "nbformat_minor": 1
}
